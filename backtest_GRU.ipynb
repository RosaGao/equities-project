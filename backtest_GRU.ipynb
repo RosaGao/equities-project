{
 "cells": [
  {
   "cell_type": "code",
   "execution_count": 1,
   "id": "816ef318",
   "metadata": {},
   "outputs": [],
   "source": [
    "import pandas as pd\n",
    "import numpy as np\n",
    "import matplotlib.pyplot as plt\n"
   ]
  },
  {
   "cell_type": "code",
   "execution_count": 2,
   "id": "795a254e",
   "metadata": {},
   "outputs": [],
   "source": [
    "def generate_signals_rank(df_predictions, top_quantile=0.3, bottom_quantile=0.3,rolling_window = 1):\n",
    "    \"\"\"\n",
    "    Generates buy and sell signals based on ranking.\n",
    "    \n",
    "    Args:\n",
    "    - df_predictions (pd.DataFrame): DataFrame with predictions.\n",
    "    - top_quantile (float): Top quantile for buy signals.\n",
    "    - bottom_quantile (float): Bottom quantile for sell signals.\n",
    "    \n",
    "    Returns:\n",
    "    - pd.DataFrame: Signals DataFrame with buy (1), sell (-1), and hold (0) signals.\n",
    "    \"\"\"\n",
    "    signals = df_predictions.copy().sort_values(by='date')    \n",
    "    signals['prediction'] = signals.groupby('Ticker')['prediction'].transform(lambda x: x.rolling(window=rolling_window).mean())\n",
    "    signals['signal'] = 0  # Default to hold\n",
    "    for date in signals['date'].unique():\n",
    "        date_mask = signals['date'] == date\n",
    "        date_data = signals[date_mask]\n",
    "        top_threshold = date_data['prediction'].quantile(1 - top_quantile)\n",
    "        bottom_threshold = date_data['prediction'].quantile(bottom_quantile)\n",
    "        signals.loc[date_mask & (date_data['prediction'] >= top_threshold), 'signal'] = 1  # Buy\n",
    "        signals.loc[date_mask & (date_data['prediction'] <= bottom_threshold), 'signal'] = -1  # Sell\n",
    "    return signals\n",
    "\n",
    "def generate_signals_threshold(df_predictions, buy_threshold, sell_threshold,rolling_window = 1):\n",
    "    \"\"\"\n",
    "    Generates buy and sell signals based on a threshold.\n",
    "    \n",
    "    Args:\n",
    "    - df_predictions (pd.DataFrame): DataFrame with predictions.\n",
    "    - buy_threshold (float): Threshold for buy signals.\n",
    "    - sell_threshold (float): Threshold for sell signals.\n",
    "    \n",
    "    Returns:\n",
    "    - pd.DataFrame: Signals DataFrame with buy (1), sell (-1), and hold (0) signals.\n",
    "    \"\"\"\n",
    "    signals = df_predictions.copy().sort_values(by='date')    \n",
    "    signals['prediction'] = signals.groupby('Ticker')['prediction'].transform(lambda x: x.rolling(window=rolling_window).mean())\n",
    "    signals['signal'] = 0  # Default to hold\n",
    "    signals.loc[signals['prediction'] >= buy_threshold, 'signal'] = 1  # Buy\n",
    "    signals.loc[signals['prediction'] <= sell_threshold, 'signal'] = -1  # Sell\n",
    "    return signals\n",
    "\n"
   ]
  },
  {
   "cell_type": "code",
   "execution_count": 3,
   "id": "d6fcc151",
   "metadata": {},
   "outputs": [],
   "source": [
    "def backtest_with_signals(df_signals, df_returns, initial_capital=100000, capital_proportion=1.0, trading_cost=0.0005,print_status = False):\n",
    "    \"\"\"\n",
    "    Backtests a strategy based on signals and returns.\n",
    "\n",
    "    Args:\n",
    "    - df_signals (pd.DataFrame): DataFrame containing the signals for trades.\n",
    "    - df_returns (pd.DataFrame): DataFrame containing actual returns.\n",
    "    - initial_capital (float): The initial capital in the strategy.\n",
    "    - capital_proportion (float): Proportion of capital to be invested.\n",
    "    - trading_cost (float): The cost of making a trade as a proportion of the trade volume.\n",
    "\n",
    "    Returns:\n",
    "    - None: Displays a plot of cumulative returns and prints performance metrics.\n",
    "    \"\"\"\n",
    "    # Merge signals with returns\n",
    "    df_signals.rename(columns={'prediction': 'return'}, inplace=True)\n",
    "    df_merged = pd.merge(df_signals, df_returns, on=['date', 'Ticker'], suffixes=('_pred', '_actual'))\n",
    "    \n",
    "    # Calculate signal changes (turnovers)\n",
    "    df_merged.sort_values(by=['Ticker', 'date'], inplace=True)  # Ensure the data is sorted\n",
    "    df_merged['signal_change'] = df_merged.groupby('Ticker')['signal'].diff().fillna(0) != 0\n",
    "    \n",
    "    # Calculate daily returns with trading cost applied only on signal change\n",
    "    df_merged['trading_cost'] = np.abs(df_merged['signal_change']) * trading_cost\n",
    "    df_merged['daily_return'] = df_merged['signal'] * df_merged['return_actual'] - df_merged['trading_cost']\n",
    "    \n",
    "\n",
    "    daily_portfolio_return = df_merged.groupby('date')['daily_return'].mean()  # Equal weight assumption\n",
    "\n",
    "    # Adjust for capital proportion\n",
    "    daily_portfolio_return *= capital_proportion\n",
    "\n",
    "    # Calculate cumulative returns\n",
    "    cumulative_returns = (daily_portfolio_return + 1).cumprod() * initial_capital\n",
    "    \n",
    "    # Annualized turnover\n",
    "    turnover_daily = df_merged.groupby('date')['signal_change'].mean()\n",
    "    annualized_turnover = turnover_daily.mean() * 252\n",
    "\n",
    "    # Performance metrics\n",
    "    # Performance metrics\n",
    "    total_return = cumulative_returns.iloc[-1] / initial_capital - 1\n",
    "    num_days = len(daily_portfolio_return)\n",
    "    annualized_return = (total_return + 1) ** (252.0 / num_days) - 1\n",
    "    daily_volatility = daily_portfolio_return.std()\n",
    "    annualized_volatility = daily_volatility * np.sqrt(252)\n",
    "    sharpe_ratio = annualized_return / annualized_volatility if annualized_volatility != 0 else np.nan\n",
    "    max_drawdown = ((cumulative_returns.cummax() - cumulative_returns) / cumulative_returns.cummax()).max()\n",
    "\n",
    "    if print_status:\n",
    "        # Print metrics\n",
    "        print(f\"Total Return: {total_return:.2%}\")\n",
    "        print(f\"Annualized Return: {annualized_return:.2%}\")\n",
    "        print(f\"Annualized Volatility: {annualized_volatility:.2%}\")\n",
    "        print(f\"Sharpe Ratio: {sharpe_ratio:.2f}\")\n",
    "        print(f\"Max Drawdown: {max_drawdown:.2%}\")\n",
    "        print(f\"Annualized Turnover: {annualized_turnover:.2%}\")\n",
    "    \n",
    "    return annualized_return,sharpe_ratio, max_drawdown, cumulative_returns\n",
    "\n",
    "# Example usage (assuming df_signals and df_returns are defined):\n",
    "# backtest_with_signals(df_signals, df_returns, capital_proportion=0.5)\n"
   ]
  },
  {
   "cell_type": "code",
   "execution_count": 4,
   "id": "23422f4d",
   "metadata": {},
   "outputs": [],
   "source": [
    "def plot_rtn(cumulative_returns,title = 'Backtest Results'):\n",
    "    # Plotting\n",
    "    plt.figure(figsize=(10, 6))\n",
    "    cumulative_returns.plot()\n",
    "    plt.title(title)\n",
    "    plt.ylabel('Portfolio Value')\n",
    "    plt.xlabel('Date')\n",
    "    plt.show()\n"
   ]
  },
  {
   "cell_type": "code",
   "execution_count": 44,
   "id": "33bc8598",
   "metadata": {},
   "outputs": [],
   "source": [
    "def optimize_parameters(df_predictions, df_returns, rank_params, threshold_params, backtest_params):\n",
    "    \"\"\"\n",
    "    Optimizes and finds the best parameter combinations for ranking and threshold signal methods\n",
    "    based on Sharpe Ratio and Annualized Return from the backtested strategies.\n",
    "\n",
    "    Args:\n",
    "    - df_predictions (pd.DataFrame): DataFrame with predictions.\n",
    "    - df_returns (pd.DataFrame): DataFrame with actual returns.\n",
    "    - rank_params (dict): Parameter grid for the ranking method.\n",
    "    - threshold_params (dict): Parameter grid for the threshold method.\n",
    "    - backtest_params (dict): Parameters for backtesting.\n",
    "\n",
    "    Returns:\n",
    "    - A tuple containing lists of the top 3 parameter combinations based on Sharpe Ratio and Annualized Return.\n",
    "    \"\"\"\n",
    "    results = []\n",
    "\n",
    "    # Iterate over all parameter combinations for the ranking and threshold methods\n",
    "    for method_params, method in [(rank_params, 'rank'), (threshold_params, 'threshold')]:\n",
    "        for rolling_window in method_params['rolling_window']:\n",
    "            for cap_prop in backtest_params['capital_proportion']:\n",
    "                if method == 'rank':\n",
    "                    for top_q in method_params['top_quantile']:\n",
    "                        for bottom_q in method_params['bottom_quantile']:\n",
    "                            signals = generate_signals_rank(df_predictions, top_quantile=top_q, bottom_quantile=bottom_q, rolling_window=rolling_window)\n",
    "                            annualized_return, sharpe_ratio, _, _ = backtest_with_signals(signals, df_returns, capital_proportion=cap_prop)\n",
    "                            results.append((method, top_q, bottom_q, rolling_window, cap_prop, 2*sharpe_ratio, 2*annualized_return))\n",
    "                elif method == 'threshold':\n",
    "                    for buy_t in method_params['buy_threshold']:\n",
    "                        for sell_t in method_params['sell_threshold']:\n",
    "                            signals = generate_signals_threshold(df_predictions, buy_threshold=buy_t, sell_threshold=sell_t, rolling_window=rolling_window)\n",
    "                            annualized_return, sharpe_ratio, _, _ = backtest_with_signals(signals, df_returns, capital_proportion=cap_prop)\n",
    "                            results.append((method, buy_t, sell_t, rolling_window, cap_prop, 2*sharpe_ratio, 2*annualized_return))\n",
    "\n",
    "    # Sort results by Sharpe Ratio and Annualized Return\n",
    "    top_by_sharpe = sorted(results, key=lambda x: x[5], reverse=True)[:3]\n",
    "    top_by_annual_return = sorted(results, key=lambda x: x[6], reverse=True)[:3]\n",
    "\n",
    "    return top_by_sharpe, top_by_annual_return\n"
   ]
  },
  {
   "cell_type": "markdown",
   "id": "c428cab6",
   "metadata": {},
   "source": [
    "# GRU"
   ]
  },
  {
   "cell_type": "code",
   "execution_count": 38,
   "id": "a7a758ce",
   "metadata": {},
   "outputs": [],
   "source": [
    "tpphrm_return = pd.read_csv('tpphrm_return.csv', parse_dates=['date']).drop(\n",
    "    columns=['Unnamed: 0'])"
   ]
  },
  {
   "cell_type": "code",
   "execution_count": 39,
   "id": "df92e520",
   "metadata": {},
   "outputs": [],
   "source": [
    "test_res_gru = pd.read_csv('predict data/test_res_2_4.csv', parse_dates=['date']).drop(\n",
    "    columns=['Unnamed: 0']).rename(columns={'fac':'prediction','code':'Ticker'})\n",
    "val_res_gru = pd.read_csv('predict data/val_res_2_4.csv', parse_dates=['date']).drop(\n",
    "    columns=['Unnamed: 0']).rename(columns={'fac':'prediction','code':'Ticker'})"
   ]
  },
  {
   "cell_type": "code",
   "execution_count": 45,
   "id": "a8dd0e9d",
   "metadata": {},
   "outputs": [],
   "source": [
    "# parameter ranges\n",
    "rank_param_grid = {\n",
    "    'top_quantile': [0.2, 0.3],\n",
    "    'bottom_quantile': [0.2, 0.3],\n",
    "    'rolling_window': [1,3,5,10]\n",
    "}\n",
    "threshold_param_grid = {\n",
    "    'buy_threshold': [val_res_gru['prediction'].mean() + val_res_gru['prediction'].std(),\n",
    "                     val_res_gru['prediction'].mean() + 1.5*val_res_gru['prediction'].std()],\n",
    "    'sell_threshold': [val_res_gru['prediction'].mean() - val_res_gru['prediction'].std(),\n",
    "                      val_res_gru['prediction'].mean() - 1.5*val_res_gru['prediction'].std()],\n",
    "    'rolling_window': [1, 3, 5,10]\n",
    "}\n",
    "backtest_param_grid = {\n",
    "    'capital_proportion': [0.5, 1.0]\n",
    "}\n",
    "\n",
    "# Assuming df_predictions and df_returns are prepared\n",
    "top_by_sharpe, top_by_annual_return = optimize_parameters(val_res_gru, tpphrm_return, rank_param_grid, threshold_param_grid, backtest_param_grid)\n"
   ]
  },
  {
   "cell_type": "code",
   "execution_count": 46,
   "id": "6d67b8bf",
   "metadata": {},
   "outputs": [
    {
     "data": {
      "text/plain": [
       "[('threshold',\n",
       "  0.3682281350844209,\n",
       "  -0.010500117314853868,\n",
       "  5,\n",
       "  1.0,\n",
       "  2.0889975201666107,\n",
       "  0.044099848244236295),\n",
       " ('threshold',\n",
       "  0.3682281350844209,\n",
       "  -0.010500117314853868,\n",
       "  5,\n",
       "  0.5,\n",
       "  2.0882820936606943,\n",
       "  0.02204237260517372),\n",
       " ('threshold',\n",
       "  0.3682281350844209,\n",
       "  -0.010500117314853868,\n",
       "  10,\n",
       "  0.5,\n",
       "  1.8276704129066224,\n",
       "  0.013816756012368092)]"
      ]
     },
     "execution_count": 46,
     "metadata": {},
     "output_type": "execute_result"
    }
   ],
   "source": [
    "top_by_sharpe"
   ]
  },
  {
   "cell_type": "code",
   "execution_count": 47,
   "id": "60e48e2a",
   "metadata": {},
   "outputs": [
    {
     "data": {
      "text/plain": [
       "[('threshold',\n",
       "  0.3682281350844209,\n",
       "  -0.010500117314853868,\n",
       "  5,\n",
       "  1.0,\n",
       "  2.0889975201666107,\n",
       "  0.044099848244236295),\n",
       " ('threshold',\n",
       "  0.3682281350844209,\n",
       "  -0.010500117314853868,\n",
       "  3,\n",
       "  1.0,\n",
       "  1.2971653771632852,\n",
       "  0.028743306437502447),\n",
       " ('threshold',\n",
       "  0.3682281350844209,\n",
       "  -0.010500117314853868,\n",
       "  10,\n",
       "  1.0,\n",
       "  1.8263169473647103,\n",
       "  0.027613048266028173)]"
      ]
     },
     "execution_count": 47,
     "metadata": {},
     "output_type": "execute_result"
    }
   ],
   "source": [
    "top_by_annual_return"
   ]
  },
  {
   "cell_type": "code",
   "execution_count": 48,
   "id": "2ae44635",
   "metadata": {},
   "outputs": [
    {
     "name": "stdout",
     "output_type": "stream",
     "text": [
      "Total Return: 2.98%\n",
      "Annualized Return: 3.27%\n",
      "Annualized Volatility: 1.57%\n",
      "Sharpe Ratio: 2.09\n",
      "Max Drawdown: 1.03%\n",
      "Annualized Turnover: 1359.20%\n"
     ]
    },
    {
     "data": {
      "image/png": "[encoded data removed]",
      "text/plain": [
       "<Figure size 1000x600 with 1 Axes>"
      ]
     },
     "metadata": {},
     "output_type": "display_data"
    }
   ],
   "source": [
    "rtn,sp,mdd,gru_rtn_threshold_method_top1 = backtest_with_signals(\n",
    "    generate_signals_threshold(test_res_gru, 0.368, -0.011, rolling_window = 5),\n",
    "    # threshold: \n",
    "    # 0.368 : val_mean + 1.5*val_std;\n",
    "    # -0.011 : val_mean - 1*val_std\n",
    "    \n",
    "    tpphrm_return, \n",
    "    initial_capital=100000, \n",
    "    capital_proportion=1, \n",
    "    trading_cost=0.0005,\n",
    "    print_status = True)\n",
    "plot_rtn(gru_rtn_threshold_method_top1,'GRU Backtest Results on Test Set')"
   ]
  },
  {
   "cell_type": "code",
   "execution_count": null,
   "id": "8fc7093b",
   "metadata": {},
   "outputs": [],
   "source": []
  }
 ],
 "metadata": {
  "kernelspec": {
   "display_name": "Python 3 (ipykernel)",
   "language": "python",
   "name": "python3"
  },
  "language_info": {
   "codemirror_mode": {
    "name": "ipython",
    "version": 3
   },
   "file_extension": ".py",
   "mimetype": "text/x-python",
   "name": "python",
   "nbconvert_exporter": "python",
   "pygments_lexer": "ipython3",
   "version": "3.11.4"
  }
 },
 "nbformat": 4,
 "nbformat_minor": 5
}
